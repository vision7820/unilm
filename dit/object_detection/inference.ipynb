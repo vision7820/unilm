{
 "cells": [
  {
   "cell_type": "code",
   "execution_count": 1,
   "metadata": {},
   "outputs": [
    {
     "name": "stderr",
     "output_type": "stream",
     "text": [
      "/Users/draden/Desktop/unilm/dit/venv/lib/python3.8/site-packages/tqdm/auto.py:22: TqdmWarning: IProgress not found. Please update jupyter and ipywidgets. See https://ipywidgets.readthedocs.io/en/stable/user_install.html\n",
      "  from .autonotebook import tqdm as notebook_tqdm\n"
     ]
    }
   ],
   "source": [
    "import cv2\n",
    "import numpy as np\n",
    "import os\n",
    "import pytesseract\n",
    "\n",
    "from ditod import add_vit_config\n",
    "\n",
    "import torch\n",
    "\n",
    "from detectron2.config import get_cfg\n",
    "from detectron2.utils.visualizer import ColorMode, Visualizer\n",
    "from detectron2.data import MetadataCatalog\n",
    "from detectron2.engine import DefaultPredictor"
   ]
  },
  {
   "cell_type": "code",
   "execution_count": 2,
   "metadata": {},
   "outputs": [],
   "source": [
    "config = \"publaynet_configs/maskrcnn/maskrcnn_dit_base.yaml\"\n",
    "opts = ['MODEL.WEIGHTS', 'https://layoutlm.blob.core.windows.net/dit/dit-fts/publaynet_dit-b_mrcnn.pth']\n",
    "image = \"6.jpg\""
   ]
  },
  {
   "cell_type": "code",
   "execution_count": 3,
   "metadata": {
    "pycharm": {
     "name": "#%%\n"
    }
   },
   "outputs": [],
   "source": [
    "def predict(image):\n",
    "    # Step 1: instantiate config\n",
    "    cfg = get_cfg()\n",
    "    add_vit_config(cfg)\n",
    "    cfg.merge_from_file(config)\n",
    "\n",
    "    # Step 2: add model weights URL to config\n",
    "    cfg.merge_from_list(opts)\n",
    "\n",
    "    # Step 3: set device\n",
    "    device = \"cpu\"\n",
    "    cfg.MODEL.DEVICE = device\n",
    "\n",
    "    # Step 4: define model\n",
    "    predictor = DefaultPredictor(cfg)\n",
    "\n",
    "    # Step 5: run inference\n",
    "    image = cv2.imread(image)\n",
    "\n",
    "    # Scale Up\n",
    "    scale = 10\n",
    "    height, width, _ = image.shape\n",
    "    img = cv2.resize(image, (width * scale, height * scale))\n",
    "\n",
    "    md = MetadataCatalog.get(cfg.DATASETS.TEST[0])\n",
    "    if cfg.DATASETS.TEST[0]=='icdar2019_test':\n",
    "        md.set(thing_classes=[\"table\"])\n",
    "    else:\n",
    "        md.set(thing_classes=[\"text\",\"title\",\"list\",\"table\",\"figure\"])\n",
    "        \n",
    "    output = predictor(img)[\"instances\"]\n",
    "        \n",
    "    v = Visualizer(img[:, :, ::-1],\n",
    "                md,\n",
    "                scale=1.0,\n",
    "                instance_mode=ColorMode.SEGMENTATION)\n",
    "    result = v.draw_instance_predictions(output.to(\"cpu\"))\n",
    "    result_image = result.get_image()[:, :, ::-1]\n",
    "    \n",
    "    return img, result_image, output.to(\"cpu\")"
   ]
  },
  {
   "cell_type": "code",
   "execution_count": 4,
   "metadata": {},
   "outputs": [
    {
     "name": "stderr",
     "output_type": "stream",
     "text": [
      "/Users/draden/Desktop/unilm/dit/venv/lib/python3.8/site-packages/torch/nn/functional.py:3609: UserWarning: Default upsampling behavior when mode=bicubic is changed to align_corners=False since 0.4.0. Please specify align_corners=True if the old behavior is desired. See the documentation of nn.Upsample for details.\n",
      "  warnings.warn(\n",
      "/Users/draden/Desktop/unilm/dit/venv/lib/python3.8/site-packages/torch/utils/checkpoint.py:25: UserWarning: None of the inputs have requires_grad=True. Gradients will be None\n",
      "  warnings.warn(\"None of the inputs have requires_grad=True. Gradients will be None\")\n",
      "/Users/draden/Desktop/unilm/dit/venv/lib/python3.8/site-packages/torch/nn/functional.py:718: UserWarning: Named tensors and all their associated APIs are an experimental feature and subject to change. Please do not use them for anything important until they are released as stable. (Triggered internally at  ../c10/core/TensorImpl.h:1156.)\n",
      "  return torch.max_pool2d(input, kernel_size, stride, padding, dilation, ceil_mode)\n"
     ]
    }
   ],
   "source": [
    "img, result_img, output = predict(image)"
   ]
  },
  {
   "cell_type": "code",
   "execution_count": 5,
   "metadata": {},
   "outputs": [
    {
     "data": {
      "text/plain": "True"
     },
     "execution_count": 5,
     "metadata": {},
     "output_type": "execute_result"
    }
   ],
   "source": [
    "cv2.imwrite(\"out.jpg\", result_img)"
   ]
  },
  {
   "cell_type": "code",
   "execution_count": 5,
   "metadata": {},
   "outputs": [],
   "source": []
  },
  {
   "cell_type": "code",
   "execution_count": 6,
   "metadata": {},
   "outputs": [],
   "source": [
    "def sort_index(instance):\n",
    "    bbox = instance.pred_boxes.tensor\n",
    "    sorting = sorted(range(bbox.size()[0]), key=lambda k: bbox[k][1].numpy())\n",
    "    return sorting"
   ]
  },
  {
   "cell_type": "code",
   "execution_count": 7,
   "metadata": {},
   "outputs": [],
   "source": [
    "def sort_tensor(tensor, sort_mask):\n",
    "    return tensor[sort_mask]"
   ]
  },
  {
   "cell_type": "code",
   "execution_count": 11,
   "metadata": {},
   "outputs": [],
   "source": [
    "def sort(instance):\n",
    "    sort_mask = sort_index(instance)\n",
    "    # sort pred_boxes\n",
    "    instance.pred_boxes.tensor = sort_tensor(instance.pred_boxes.tensor, sort_mask)\n",
    "    # sort score\n",
    "    instance.scores = sort_tensor(instance.scores, sort_mask)\n",
    "    # sort pred_classes\n",
    "    instance.pred_classes = sort_tensor(instance.pred_classes, sort_mask)\n",
    "    # sort pred_masks\n",
    "    instance.pred_masks = sort_tensor(instance.pred_masks, sort_mask)\n",
    "    return instance\n",
    "\n",
    "def get_remove_mask(instance, conf):\n",
    "    scores = instance.scores\n",
    "    out_mask = []\n",
    "    for idx,score in enumerate(scores):\n",
    "        if score >= conf:\n",
    "            out_mask.append(idx)\n",
    "    return out_mask\n",
    "\n",
    "def filter_tensor(tensor, mask):\n",
    "    return tensor[mask]\n",
    "\n",
    "def remove_box_lower_than(instance, conf):\n",
    "    mask = get_remove_mask(instance, conf)\n",
    "    # sort pred_boxes\n",
    "    instance.pred_boxes.tensor = filter_tensor(instance.pred_boxes.tensor, mask)\n",
    "    # sort score\n",
    "    instance.scores = filter_tensor(instance.scores, mask)\n",
    "    # sort pred_classes\n",
    "    instance.pred_classes = filter_tensor(instance.pred_classes, mask)\n",
    "    # sort pred_masks\n",
    "    instance.pred_masks = filter_tensor(instance.pred_masks, mask)\n",
    "\n",
    "    return instance\n",
    "\n",
    "\n",
    "def get_output_details(output):\n",
    "    boxes = output.to(\"cpu\").pred_boxes if output.to(\"cpu\").has(\"pred_boxes\") else None\n",
    "    scores = output.to(\"cpu\").scores if output.to(\"cpu\").has(\"scores\") else None\n",
    "    classes = output.to(\"cpu\").pred_classes.tolist() if output.to(\"cpu\").has(\"pred_classes\") else None\n",
    "    class_list = [\"text\",\"title\",\"list\",\"table\",\"figure\"]\n",
    "\n",
    "    return boxes, scores, classes, class_list\n",
    "\n",
    "def add_padding(input_img, padding, color):\n",
    "    old_image_height, old_image_width, channels = input_img.shape\n",
    "\n",
    "    # create new image of desired size and color (blue) for padding\n",
    "    new_image_width = old_image_width + 2 * padding\n",
    "    new_image_height = old_image_height + 2 * padding\n",
    "    result = np.full((new_image_height,new_image_width, channels), color, dtype=np.uint8)\n",
    "\n",
    "    # compute center offset\n",
    "    x_center = (new_image_width - old_image_width) // 2\n",
    "    y_center = (new_image_height - old_image_height) // 2\n",
    "\n",
    "    # copy img image into center of result image\n",
    "    result[y_center:y_center+old_image_height,\n",
    "           x_center:x_center+old_image_width] = input_img\n",
    "    return result\n",
    "\n",
    "def ocr(img_cv, idx):\n",
    "    img_rgb = cv2.cvtColor(img_cv, cv2.COLOR_BGR2RGB)\n",
    "    return {\n",
    "        \"class\": class_list[classes[idx]],\n",
    "        \"text\": pytesseract.image_to_string(img_rgb)\n",
    "    }\n",
    "\n",
    "def crop_and_save_image(idx, input_img, bbox, filename, padding=25, color=(255,255,255)):\n",
    "    height, width, channels = input_img.shape\n",
    "    x1 = int(bbox[0])\n",
    "    x2 = int(bbox[2])\n",
    "    y1 = int(bbox[1])\n",
    "    y2 = int(bbox[3])\n",
    "    cropped_image = input_img[y1:y2, x1:x2]\n",
    "    padded_image = add_padding(cropped_image, padding, color)\n",
    "    cv2.imwrite(filename, padded_image)\n",
    "    return ocr(padded_image, idx)\n",
    "\n",
    "def format_output(ocr_output):\n",
    "    final = {}\n",
    "    title_index = 0\n",
    "\n",
    "    for idx, item in enumerate(ocr_output):\n",
    "        if (item['class'] == 'title'):\n",
    "            final[f\"header{title_index}\"] = {}\n",
    "            final[f\"header{title_index}\"][\"title\"] = item[\"text\"]\n",
    "            final[f\"header{title_index}\"][\"body\"] = []\n",
    "            title_index += 1\n",
    "        else:\n",
    "            if (title_index == 0):\n",
    "                final[f\"header{title_index}\"] = {}\n",
    "                final[f\"header{title_index}\"][\"title\"] = \"\"\n",
    "                final[f\"header{title_index}\"][\"body\"] = []\n",
    "                final[f\"header{title_index}\"][\"body\"].append(item[\"text\"])\n",
    "            else:\n",
    "                final[f\"header{(title_index - 1)}\"][\"body\"].append(item[\"text\"])\n",
    "    return final"
   ]
  },
  {
   "cell_type": "code",
   "execution_count": 12,
   "outputs": [
    {
     "name": "stdout",
     "output_type": "stream",
     "text": [
      "Boxes(tensor([[ 4715.8921,  4466.5879, 20241.9121,  6092.1831],\n",
      "        [ 2989.6243,  7110.5308, 12918.1738,  7673.9058],\n",
      "        [ 2956.3796,  9246.2803, 20137.2852, 10423.3623],\n",
      "        [ 5198.6533, 12241.8535, 12731.7988, 13013.1387],\n",
      "        [ 2957.2825, 13713.3086, 21753.9297, 17940.3535],\n",
      "        [ 5172.8374, 19333.7344, 12917.9180, 20075.8242],\n",
      "        [ 2946.6902, 20805.5840, 14178.8145, 21357.6465],\n",
      "        [ 2823.2402, 21662.3164, 21554.4297, 23457.5723],\n",
      "        [ 2916.7366, 23784.1602, 20674.7402, 24284.0488]]))\n",
      "tensor([0.9772, 0.9589, 0.9855, 0.9694, 0.9960, 0.9176, 0.9522, 0.9518, 0.9887])\n",
      "[1, 0, 0, 1, 0, 1, 0, 0, 0]\n"
     ]
    }
   ],
   "source": [
    "output = sort(output)\n",
    "output = remove_box_lower_than(output, 0.85)\n",
    "boxes, scores, classes, class_list = get_output_details(output)\n",
    "\n",
    "# Output after sorting\n",
    "print(boxes)\n",
    "print(scores)\n",
    "print(classes)"
   ],
   "metadata": {
    "collapsed": false,
    "pycharm": {
     "name": "#%%\n"
    }
   }
  },
  {
   "cell_type": "code",
   "execution_count": 12,
   "metadata": {},
   "outputs": [],
   "source": []
  },
  {
   "cell_type": "code",
   "execution_count": 13,
   "outputs": [
    {
     "name": "stdout",
     "output_type": "stream",
     "text": [
      "{'header0': {'title': 'A study to test whether different doses of BI 655064 help\\npeople with active lupus nepnritis\\n\\n', 'body': ['This is a summary of results from 1 clinical study.\\n', 'We thank all study participants. You helped us to answer important questions about\\nB| 655064 and the treatment of lupus nephritis.\\n']}, 'header1': {'title': 'What was this study about?\\n', 'body': ['The purpose of this study was to find out whether a medicine called BI 655064 helps people\\nwith lupus nephritis. Lupus nephritis is kidney inflammation caused by the autoimmune\\ndisease lupus. The inflammation can be severe, leading to loss of kidney function. New\\ntreatments are needed for this condition. Bl 655064 is a medicine that is being developed to\\ntreat people with autoimmune disorders. When we develop a new medicine, we need to\\nmake sure it works. We wanted to see if different doses of BI 655064 help improve kidney\\nfunction in people with lupus nephritis.\\n']}, 'header2': {'title': 'Who took part in this study?\\n', 'body': ['Adults with lupus nephritis could take part in this study\\n', '121 participants were treated in the study. 108 (89%) were women and 13 (11%) were men\\nThe average age was 35 years. The youngest participant was 18 years old. The oldest\\nparticipant was 62 years old.\\n\\n', 'The following table shows the numbers of participants in the stuay in different regions.\\n']}}\n"
     ]
    }
   ],
   "source": [
    "out_folder = \"out\"\n",
    "try:\n",
    "    os.mkdir(out_folder)\n",
    "except:\n",
    "    pass\n",
    "\n",
    "ocr_output_list = []\n",
    "\n",
    "for idx, box in enumerate(boxes):\n",
    "    ocr_result = crop_and_save_image(idx, img, box, os.path.join(out_folder, str(idx) + \".jpg\"), 25)\n",
    "    ocr_output_list.append(ocr_result)\n",
    "\n",
    "final_result = format_output(ocr_output_list)\n",
    "print(final_result)"
   ],
   "metadata": {
    "collapsed": false,
    "pycharm": {
     "name": "#%%\n"
    }
   }
  },
  {
   "cell_type": "code",
   "execution_count": 10,
   "outputs": [],
   "source": [],
   "metadata": {
    "collapsed": false,
    "pycharm": {
     "name": "#%%\n"
    }
   }
  },
  {
   "cell_type": "code",
   "execution_count": 10,
   "outputs": [],
   "source": [
    "\n"
   ],
   "metadata": {
    "collapsed": false,
    "pycharm": {
     "name": "#%%\n"
    }
   }
  },
  {
   "cell_type": "code",
   "execution_count": 10,
   "outputs": [],
   "source": [],
   "metadata": {
    "collapsed": false,
    "pycharm": {
     "name": "#%%\n"
    }
   }
  },
  {
   "cell_type": "code",
   "execution_count": 10,
   "outputs": [],
   "source": [],
   "metadata": {
    "collapsed": false,
    "pycharm": {
     "name": "#%%\n"
    }
   }
  },
  {
   "cell_type": "code",
   "execution_count": null,
   "outputs": [],
   "source": [],
   "metadata": {
    "collapsed": false,
    "pycharm": {
     "name": "#%%\n"
    }
   }
  }
 ],
 "metadata": {
  "kernelspec": {
   "display_name": "Python 3 (ipykernel)",
   "language": "python",
   "name": "python3"
  },
  "language_info": {
   "codemirror_mode": {
    "name": "ipython",
    "version": 3
   },
   "file_extension": ".py",
   "mimetype": "text/x-python",
   "name": "python",
   "nbconvert_exporter": "python",
   "pygments_lexer": "ipython3",
   "version": "3.7.11"
  }
 },
 "nbformat": 4,
 "nbformat_minor": 1
}