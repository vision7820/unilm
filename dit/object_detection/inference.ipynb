{
 "cells": [
  {
   "cell_type": "code",
   "execution_count": 87,
   "metadata": {},
   "outputs": [],
   "source": [
    "import cv2\n",
    "import numpy as np\n",
    "import os\n",
    "import pytesseract\n",
    "\n",
    "from ditod import add_vit_config\n",
    "\n",
    "import torch\n",
    "\n",
    "from detectron2.config import get_cfg\n",
    "from detectron2.utils.visualizer import ColorMode, Visualizer\n",
    "from detectron2.data import MetadataCatalog\n",
    "from detectron2.engine import DefaultPredictor"
   ]
  },
  {
   "cell_type": "code",
   "execution_count": 127,
   "metadata": {},
   "outputs": [],
   "source": [
    "config = \"publaynet_configs/maskrcnn/maskrcnn_dit_base.yaml\"\n",
    "opts = ['MODEL.WEIGHTS', 'https://layoutlm.blob.core.windows.net/dit/dit-fts/publaynet_dit-b_mrcnn.pth']\n",
    "image = \"6.jpg\""
   ]
  },
  {
   "cell_type": "code",
   "execution_count": 128,
   "metadata": {
    "pycharm": {
     "name": "#%%\n"
    }
   },
   "outputs": [],
   "source": [
    "def predict(image):\n",
    "    # Step 1: instantiate config\n",
    "    cfg = get_cfg()\n",
    "    add_vit_config(cfg)\n",
    "    cfg.merge_from_file(config)\n",
    "\n",
    "    # Step 2: add model weights URL to config\n",
    "    cfg.merge_from_list(opts)\n",
    "\n",
    "    # Step 3: set device\n",
    "    device = \"cpu\"\n",
    "    cfg.MODEL.DEVICE = device\n",
    "\n",
    "    # Step 4: define model\n",
    "    predictor = DefaultPredictor(cfg)\n",
    "    # Step 5: run inference\n",
    "    img = cv2.imread(image)\n",
    "\n",
    "    md = MetadataCatalog.get(cfg.DATASETS.TEST[0])\n",
    "    if cfg.DATASETS.TEST[0]=='icdar2019_test':\n",
    "        md.set(thing_classes=[\"table\"])\n",
    "    else:\n",
    "        md.set(thing_classes=[\"text\",\"title\",\"list\",\"table\",\"figure\"])\n",
    "        \n",
    "    output = predictor(img)[\"instances\"]\n",
    "        \n",
    "    v = Visualizer(img[:, :, ::-1],\n",
    "                md,\n",
    "                scale=1.0,\n",
    "                instance_mode=ColorMode.SEGMENTATION)\n",
    "    result = v.draw_instance_predictions(output.to(\"cpu\"))\n",
    "    result_image = result.get_image()[:, :, ::-1]\n",
    "    \n",
    "    return img, result_image, output.to(\"cpu\")"
   ]
  },
  {
   "cell_type": "code",
   "execution_count": 129,
   "metadata": {},
   "outputs": [
    {
     "name": "stderr",
     "output_type": "stream",
     "text": [
      "/Users/hansheng/Desktop/unilm/dit/venv/lib/python3.7/site-packages/torch/nn/functional.py:3613: UserWarning: Default upsampling behavior when mode=bicubic is changed to align_corners=False since 0.4.0. Please specify align_corners=True if the old behavior is desired. See the documentation of nn.Upsample for details.\n",
      "  \"See the documentation of nn.Upsample for details.\".format(mode)\n",
      "/Users/hansheng/Desktop/unilm/dit/venv/lib/python3.7/site-packages/torch/utils/checkpoint.py:25: UserWarning: None of the inputs have requires_grad=True. Gradients will be None\n",
      "  warnings.warn(\"None of the inputs have requires_grad=True. Gradients will be None\")\n"
     ]
    }
   ],
   "source": [
    "img, result_img, output = predict(image)"
   ]
  },
  {
   "cell_type": "code",
   "execution_count": 130,
   "metadata": {},
   "outputs": [
    {
     "data": {
      "text/plain": "True"
     },
     "execution_count": 130,
     "metadata": {},
     "output_type": "execute_result"
    }
   ],
   "source": [
    "cv2.imwrite(\"out.jpg\", result_img)"
   ]
  },
  {
   "cell_type": "code",
   "execution_count": 131,
   "metadata": {},
   "outputs": [
    {
     "name": "stdout",
     "output_type": "stream",
     "text": [
      "Instances(num_instances=10, image_height=3508, image_width=2481, fields=[pred_boxes: Boxes(tensor([[ 295.4206, 1371.1492, 2176.1472, 1793.8269],\n",
      "        [ 291.8101, 2378.4170, 2068.4028, 2428.4456],\n",
      "        [ 295.4668,  924.6285, 2014.5366, 1042.3282],\n",
      "        [ 471.4626,  446.6908, 2024.2179,  609.0714],\n",
      "        [ 519.3795, 1224.2454, 1273.1481, 1301.1660],\n",
      "        [ 299.2503,  711.0563, 1291.8029,  767.3207],\n",
      "        [ 294.8022, 2080.5405, 1418.4680, 2135.6948],\n",
      "        [ 282.0891, 2166.0715, 2155.0469, 2345.7046],\n",
      "        [ 517.4215, 1933.5024, 1291.9512, 2007.4747],\n",
      "        [ 520.6734, 1934.8213, 1292.9557, 2007.6071]])), scores: tensor([0.9955, 0.9887, 0.9836, 0.9764, 0.9681, 0.9577, 0.9507, 0.9502, 0.9118,\n",
      "        0.0542]), pred_classes: tensor([0, 0, 0, 1, 1, 0, 0, 0, 1, 0]), pred_masks: tensor([[[False, False, False,  ..., False, False, False],\n",
      "         [False, False, False,  ..., False, False, False],\n",
      "         [False, False, False,  ..., False, False, False],\n",
      "         ...,\n",
      "         [False, False, False,  ..., False, False, False],\n",
      "         [False, False, False,  ..., False, False, False],\n",
      "         [False, False, False,  ..., False, False, False]],\n",
      "\n",
      "        [[False, False, False,  ..., False, False, False],\n",
      "         [False, False, False,  ..., False, False, False],\n",
      "         [False, False, False,  ..., False, False, False],\n",
      "         ...,\n",
      "         [False, False, False,  ..., False, False, False],\n",
      "         [False, False, False,  ..., False, False, False],\n",
      "         [False, False, False,  ..., False, False, False]],\n",
      "\n",
      "        [[False, False, False,  ..., False, False, False],\n",
      "         [False, False, False,  ..., False, False, False],\n",
      "         [False, False, False,  ..., False, False, False],\n",
      "         ...,\n",
      "         [False, False, False,  ..., False, False, False],\n",
      "         [False, False, False,  ..., False, False, False],\n",
      "         [False, False, False,  ..., False, False, False]],\n",
      "\n",
      "        ...,\n",
      "\n",
      "        [[False, False, False,  ..., False, False, False],\n",
      "         [False, False, False,  ..., False, False, False],\n",
      "         [False, False, False,  ..., False, False, False],\n",
      "         ...,\n",
      "         [False, False, False,  ..., False, False, False],\n",
      "         [False, False, False,  ..., False, False, False],\n",
      "         [False, False, False,  ..., False, False, False]],\n",
      "\n",
      "        [[False, False, False,  ..., False, False, False],\n",
      "         [False, False, False,  ..., False, False, False],\n",
      "         [False, False, False,  ..., False, False, False],\n",
      "         ...,\n",
      "         [False, False, False,  ..., False, False, False],\n",
      "         [False, False, False,  ..., False, False, False],\n",
      "         [False, False, False,  ..., False, False, False]],\n",
      "\n",
      "        [[False, False, False,  ..., False, False, False],\n",
      "         [False, False, False,  ..., False, False, False],\n",
      "         [False, False, False,  ..., False, False, False],\n",
      "         ...,\n",
      "         [False, False, False,  ..., False, False, False],\n",
      "         [False, False, False,  ..., False, False, False],\n",
      "         [False, False, False,  ..., False, False, False]]])])\n"
     ]
    }
   ],
   "source": [
    "print(output)"
   ]
  },
  {
   "cell_type": "code",
   "execution_count": 132,
   "metadata": {},
   "outputs": [],
   "source": [
    "def sort_index(instance):\n",
    "    bbox = instance.pred_boxes.tensor\n",
    "    sorting = sorted(range(bbox.size()[0]), key=lambda k: bbox[k][1].numpy())\n",
    "    return sorting\n"
   ]
  },
  {
   "cell_type": "code",
   "execution_count": 133,
   "metadata": {},
   "outputs": [],
   "source": [
    "def sort_tensor(tensor, sort_mask):\n",
    "    return tensor[sort_mask]"
   ]
  },
  {
   "cell_type": "code",
   "execution_count": 134,
   "metadata": {},
   "outputs": [],
   "source": [
    "def sort(instance):\n",
    "    sort_mask = sort_index(instance)\n",
    "    # sort pred_boxes\n",
    "    instance.pred_boxes.tensor = sort_tensor(instance.pred_boxes.tensor, sort_mask)\n",
    "    # sort score\n",
    "    instance.scores = sort_tensor(instance.scores, sort_mask)\n",
    "    # sort pred_classes\n",
    "    instance.pred_classes = sort_tensor(instance.pred_classes, sort_mask)\n",
    "    # sort pred_masks\n",
    "    instance.pred_masks = sort_tensor(instance.pred_masks, sort_mask)\n",
    "    return instance\n",
    "\n",
    "def get_remove_mask(instance, conf):\n",
    "    scores = instance.scores\n",
    "    out_mask = []\n",
    "    for idx,score in enumerate(scores):\n",
    "        if score >= conf:\n",
    "            out_mask.append(idx)\n",
    "    return out_mask\n",
    "\n",
    "def filter_tensor(tensor, mask):\n",
    "    return tensor[mask]\n",
    "\n",
    "def remove_box_lower_than(instance, conf):\n",
    "    mask = get_remove_mask(instance, conf)\n",
    "    # sort pred_boxes\n",
    "    instance.pred_boxes.tensor = filter_tensor(instance.pred_boxes.tensor, mask)\n",
    "    # sort score\n",
    "    instance.scores = filter_tensor(instance.scores, mask)\n",
    "    # sort pred_classes\n",
    "    instance.pred_classes = filter_tensor(instance.pred_classes, mask)\n",
    "    # sort pred_masks\n",
    "    instance.pred_masks = filter_tensor(instance.pred_masks, mask)\n",
    "\n",
    "    return instance"
   ]
  },
  {
   "cell_type": "code",
   "execution_count": 135,
   "outputs": [
    {
     "name": "stdout",
     "output_type": "stream",
     "text": [
      "Boxes(tensor([[ 471.4626,  446.6908, 2024.2179,  609.0714],\n",
      "        [ 299.2503,  711.0563, 1291.8029,  767.3207],\n",
      "        [ 295.4668,  924.6285, 2014.5366, 1042.3282],\n",
      "        [ 519.3795, 1224.2454, 1273.1481, 1301.1660],\n",
      "        [ 295.4206, 1371.1492, 2176.1472, 1793.8269],\n",
      "        [ 517.4215, 1933.5024, 1291.9512, 2007.4747],\n",
      "        [ 294.8022, 2080.5405, 1418.4680, 2135.6948],\n",
      "        [ 282.0891, 2166.0715, 2155.0469, 2345.7046],\n",
      "        [ 291.8101, 2378.4170, 2068.4028, 2428.4456]]))\n",
      "tensor([0.9764, 0.9577, 0.9836, 0.9681, 0.9955, 0.9118, 0.9507, 0.9502, 0.9887])\n",
      "[1, 0, 0, 1, 0, 1, 0, 0, 0]\n"
     ]
    }
   ],
   "source": [
    "output = sort(output)\n",
    "output = remove_box_lower_than(output, 0.85)\n",
    "\n",
    "boxes = output.to(\"cpu\").pred_boxes if output.to(\"cpu\").has(\"pred_boxes\") else None\n",
    "scores = output.to(\"cpu\").scores if output.to(\"cpu\").has(\"scores\") else None\n",
    "classes = output.to(\"cpu\").pred_classes.tolist() if output.to(\"cpu\").has(\"pred_classes\") else None\n",
    "class_list = [\"text\",\"title\",\"list\",\"table\",\"figure\"]\n",
    "\n",
    "print(boxes)\n",
    "print(scores)\n",
    "print(classes)"
   ],
   "metadata": {
    "collapsed": false,
    "pycharm": {
     "name": "#%%\n"
    }
   }
  },
  {
   "cell_type": "code",
   "execution_count": 135,
   "metadata": {},
   "outputs": [],
   "source": []
  },
  {
   "cell_type": "code",
   "execution_count": 136,
   "outputs": [
    {
     "name": "stdout",
     "output_type": "stream",
     "text": [
      "[{'class': 'title', 'text': 'A study to test whether different doses of BI 655064 help\\npeople with active lupus nephritis\\n'}, {'class': 'text', 'text': 'This is a summary of results from 1 clinical study.\\n'}, {'class': 'text', 'text': 'We thank all study participants. You helped us to answer important questions about\\nBI 655064 and the treatment of lupus nephritis.\\n'}, {'class': 'title', 'text': 'What was this study about?\\n'}, {'class': 'text', 'text': 'The purpose of this study was to find out whether a medicine called Bl 655064 helps people\\nwith lupus nephritis. Lupus nephritis is kidney inflammation caused by the autoimmune\\ndisease lupus. The inflammation can be severe, leading to loss of kidney function. New\\ntreatments are needed for this condition. Bl 655064 is a medicine that is being developed to\\ntreat people with autoimmune disorders. When we develop a new medicine, we need to\\nmake sure it works. We wanted to see if different doses of BI 655064 help improve kidney\\nfunction in people with lupus nephritis.\\n'}, {'class': 'title', 'text': 'Who took part in this study?\\n'}, {'class': 'text', 'text': 'Adults with lupus nephritis could take part in this study\\n'}, {'class': 'text', 'text': '121 participants were treated in the study. 108 (89%) were women and 13 (11%) were men\\nThe average age was 35 years. The youngest participant was 18 years old. The oldest\\nparticipant was 62 years old.\\n'}, {'class': 'text', 'text': 'The following table shows the numbers of participants in the study in different regions.\\n'}]\n"
     ]
    }
   ],
   "source": [
    "ocr_output=[]\n",
    "\n",
    "def add_padding(input_img, padding, color):\n",
    "    old_image_height, old_image_width, channels = input_img.shape\n",
    "\n",
    "    # create new image of desired size and color (blue) for padding\n",
    "    new_image_width = old_image_width + 2 * padding\n",
    "    new_image_height = old_image_height + 2 * padding\n",
    "    result = np.full((new_image_height,new_image_width, channels), color, dtype=np.uint8)\n",
    "\n",
    "    # compute center offset\n",
    "    x_center = (new_image_width - old_image_width) // 2\n",
    "    y_center = (new_image_height - old_image_height) // 2\n",
    "\n",
    "    # copy img image into center of result image\n",
    "    result[y_center:y_center+old_image_height,\n",
    "           x_center:x_center+old_image_width] = input_img\n",
    "    return result\n",
    "\n",
    "def ocr(img_cv, idx):\n",
    "    img_rgb = cv2.cvtColor(img_cv, cv2.COLOR_BGR2RGB)\n",
    "    ocr_output.append({\n",
    "        \"class\": class_list[classes[idx]],\n",
    "        \"text\": pytesseract.image_to_string(img_rgb)\n",
    "    })\n",
    "\n",
    "def crop_and_save_image(idx, input_img, bbox, filename, padding=25, color=(255,255,255)):\n",
    "    height, width, channels = input_img.shape\n",
    "    x1 = int(bbox[0])\n",
    "    x2 = int(bbox[2])\n",
    "    y1 = int(bbox[1])\n",
    "    y2 = int(bbox[3])\n",
    "    cropped_image = input_img[y1:y2, x1:x2]\n",
    "    padded_image = add_padding(cropped_image, padding, color)\n",
    "    ocr(padded_image, idx)\n",
    "    cv2.imwrite(filename, padded_image)\n",
    "\n",
    "def format_output():\n",
    "    print(ocr_output)\n",
    "\n",
    "out_folder = \"out\"\n",
    "try:\n",
    "    os.mkdir(out_folder)\n",
    "except:\n",
    "    pass\n",
    "\n",
    "img = cv2.imread(image)\n",
    "\n",
    "for idx, box in enumerate(boxes):\n",
    "    crop_and_save_image(idx, img, box, os.path.join(out_folder, str(idx) + \".jpg\"), 25)\n",
    "\n",
    "format_output()"
   ],
   "metadata": {
    "collapsed": false,
    "pycharm": {
     "name": "#%%\n"
    }
   }
  },
  {
   "cell_type": "code",
   "execution_count": 137,
   "outputs": [
    {
     "name": "stdout",
     "output_type": "stream",
     "text": [
      "[{'class': 'title', 'text': 'A study to test whether different doses of BI 655064 help\\npeople with active lupus nephritis\\n'}, {'class': 'text', 'text': 'This is a summary of results from 1 clinical study.\\n'}, {'class': 'text', 'text': 'We thank all study participants. You helped us to answer important questions about\\nBI 655064 and the treatment of lupus nephritis.\\n'}, {'class': 'title', 'text': 'What was this study about?\\n'}, {'class': 'text', 'text': 'The purpose of this study was to find out whether a medicine called Bl 655064 helps people\\nwith lupus nephritis. Lupus nephritis is kidney inflammation caused by the autoimmune\\ndisease lupus. The inflammation can be severe, leading to loss of kidney function. New\\ntreatments are needed for this condition. Bl 655064 is a medicine that is being developed to\\ntreat people with autoimmune disorders. When we develop a new medicine, we need to\\nmake sure it works. We wanted to see if different doses of BI 655064 help improve kidney\\nfunction in people with lupus nephritis.\\n'}, {'class': 'title', 'text': 'Who took part in this study?\\n'}, {'class': 'text', 'text': 'Adults with lupus nephritis could take part in this study\\n'}, {'class': 'text', 'text': '121 participants were treated in the study. 108 (89%) were women and 13 (11%) were men\\nThe average age was 35 years. The youngest participant was 18 years old. The oldest\\nparticipant was 62 years old.\\n'}, {'class': 'text', 'text': 'The following table shows the numbers of participants in the study in different regions.\\n'}]\n"
     ]
    }
   ],
   "source": [
    "print(ocr_output)"
   ],
   "metadata": {
    "collapsed": false,
    "pycharm": {
     "name": "#%%\n"
    }
   }
  },
  {
   "cell_type": "code",
   "execution_count": 138,
   "outputs": [],
   "source": [
    "final = {}\n",
    "title_index = 0\n",
    "\n",
    "for idx, item in enumerate(ocr_output):\n",
    "    if (item['class'] == 'title'):\n",
    "        final[f\"header{title_index}\"] = {}\n",
    "        final[f\"header{title_index}\"][\"title\"] = item[\"text\"]\n",
    "        final[f\"header{title_index}\"][\"body\"] = []\n",
    "        title_index += 1\n",
    "    else:\n",
    "        if (title_index == 0):\n",
    "            final[f\"header{title_index}\"] = {}\n",
    "            final[f\"header{title_index}\"][\"title\"] = \"\"\n",
    "            final[f\"header{title_index}\"][\"body\"] = []\n",
    "            final[f\"header{title_index}\"][\"body\"].append(item[\"text\"])\n",
    "        else:\n",
    "            final[f\"header{(title_index - 1)}\"][\"body\"].append(item[\"text\"])\n"
   ],
   "metadata": {
    "collapsed": false,
    "pycharm": {
     "name": "#%%\n"
    }
   }
  },
  {
   "cell_type": "code",
   "execution_count": 139,
   "outputs": [
    {
     "name": "stdout",
     "output_type": "stream",
     "text": [
      "{'header0': {'title': 'A study to test whether different doses of BI 655064 help\\npeople with active lupus nephritis\\n', 'body': ['This is a summary of results from 1 clinical study.\\n', 'We thank all study participants. You helped us to answer important questions about\\nBI 655064 and the treatment of lupus nephritis.\\n']}, 'header1': {'title': 'What was this study about?\\n', 'body': ['The purpose of this study was to find out whether a medicine called Bl 655064 helps people\\nwith lupus nephritis. Lupus nephritis is kidney inflammation caused by the autoimmune\\ndisease lupus. The inflammation can be severe, leading to loss of kidney function. New\\ntreatments are needed for this condition. Bl 655064 is a medicine that is being developed to\\ntreat people with autoimmune disorders. When we develop a new medicine, we need to\\nmake sure it works. We wanted to see if different doses of BI 655064 help improve kidney\\nfunction in people with lupus nephritis.\\n']}, 'header2': {'title': 'Who took part in this study?\\n', 'body': ['Adults with lupus nephritis could take part in this study\\n', '121 participants were treated in the study. 108 (89%) were women and 13 (11%) were men\\nThe average age was 35 years. The youngest participant was 18 years old. The oldest\\nparticipant was 62 years old.\\n', 'The following table shows the numbers of participants in the study in different regions.\\n']}}\n"
     ]
    }
   ],
   "source": [
    "print(final)"
   ],
   "metadata": {
    "collapsed": false,
    "pycharm": {
     "name": "#%%\n"
    }
   }
  },
  {
   "cell_type": "code",
   "execution_count": 113,
   "outputs": [],
   "source": [],
   "metadata": {
    "collapsed": false,
    "pycharm": {
     "name": "#%%\n"
    }
   }
  },
  {
   "cell_type": "code",
   "execution_count": null,
   "outputs": [],
   "source": [],
   "metadata": {
    "collapsed": false,
    "pycharm": {
     "name": "#%%\n"
    }
   }
  }
 ],
 "metadata": {
  "kernelspec": {
   "display_name": "Python 3 (ipykernel)",
   "language": "python",
   "name": "python3"
  },
  "language_info": {
   "codemirror_mode": {
    "name": "ipython",
    "version": 3
   },
   "file_extension": ".py",
   "mimetype": "text/x-python",
   "name": "python",
   "nbconvert_exporter": "python",
   "pygments_lexer": "ipython3",
   "version": "3.7.11"
  }
 },
 "nbformat": 4,
 "nbformat_minor": 1
}